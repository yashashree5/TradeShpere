{
 "cells": [
  {
   "cell_type": "code",
   "execution_count": 1,
   "id": "9b11025d",
   "metadata": {},
   "outputs": [
    {
     "name": "stdout",
     "output_type": "stream",
     "text": [
      " Loading raw trades...\n",
      " Cleaning and transforming...\n",
      " Transformation complete! Processed files saved:\n",
      "- data/processed_trades.csv (clean trades)\n",
      "- data/summary_metrics.csv (aggregated metrics)\n"
     ]
    }
   ],
   "source": [
    "import pandas as pd\n",
    "\n",
    "# 1. Extract\n",
    "print(\" Loading raw trades...\")\n",
    "df = pd.read_csv(\"/Users/yashashreeshinde/TradeSphere/data/trades.csv\", parse_dates=['trade_date'])\n",
    "\n",
    "# 2. Transform\n",
    "print(\" Cleaning and transforming...\")\n",
    "\n",
    "# Handle missing values (if any)\n",
    "df = df.dropna()\n",
    "\n",
    "# Normalize notional to millions for easier comparison\n",
    "df['notional_mn'] = df['notional'] / 1e6\n",
    "\n",
    "# Add trade year, month for grouping\n",
    "df['year'] = df['trade_date'].dt.year\n",
    "df['month'] = df['trade_date'].dt.month\n",
    "\n",
    "# Calculate exposure per counterparty\n",
    "exposure = df.groupby('counterparty')['notional_mn'].sum().reset_index()\n",
    "exposure.rename(columns={'notional_mn':'total_exposure_mn'}, inplace=True)\n",
    "\n",
    "# Calculate total PnL and liquidity metrics\n",
    "agg_metrics = df.groupby('counterparty')[['pnl','liquidity']].sum().reset_index()\n",
    "\n",
    "# Merge metrics\n",
    "summary = pd.merge(exposure, agg_metrics, on='counterparty')\n",
    "\n",
    "# 3. Load\n",
    "df.to_csv(\"/Users/yashashreeshinde/TradeSphere/data/processed_trades.csv\", index=False)\n",
    "summary.to_csv(\"/Users/yashashreeshinde/TradeSphere/data/summary_metrics.csv\", index=False)\n",
    "\n",
    "print(\" Transformation complete! Processed files saved:\")\n",
    "print(\"- data/processed_trades.csv (clean trades)\")\n",
    "print(\"- data/summary_metrics.csv (aggregated metrics)\")\n"
   ]
  },
  {
   "cell_type": "code",
   "execution_count": null,
   "id": "be47c911",
   "metadata": {},
   "outputs": [],
   "source": []
  }
 ],
 "metadata": {
  "kernelspec": {
   "display_name": "Python 3 (ipykernel)",
   "language": "python",
   "name": "python3"
  },
  "language_info": {
   "codemirror_mode": {
    "name": "ipython",
    "version": 3
   },
   "file_extension": ".py",
   "mimetype": "text/x-python",
   "name": "python",
   "nbconvert_exporter": "python",
   "pygments_lexer": "ipython3",
   "version": "3.9.13"
  }
 },
 "nbformat": 4,
 "nbformat_minor": 5
}
